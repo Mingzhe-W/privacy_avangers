{
  "nbformat": 4,
  "nbformat_minor": 0,
  "metadata": {
    "colab": {
      "provenance": []
    },
    "kernelspec": {
      "name": "python3",
      "display_name": "Python 3"
    },
    "language_info": {
      "name": "python"
    }
  },
  "cells": [
    {
      "cell_type": "code",
      "execution_count": 4,
      "metadata": {
        "id": "H5DhkEsWUPXk"
      },
      "outputs": [],
      "source": [
        "import tensorflow as tf\n",
        "from tensorflow.keras import layers, models\n",
        "from tensorflow.keras.datasets import mnist\n",
        "from sklearn.model_selection import train_test_split\n",
        "import numpy as np"
      ]
    },
    {
      "cell_type": "code",
      "source": [
        "(x_train, y_train), (x_test, y_test) = mnist.load_data()"
      ],
      "metadata": {
        "colab": {
          "base_uri": "https://localhost:8080/"
        },
        "id": "HE07oDJsUq_h",
        "outputId": "f10ceb85-b472-4618-a140-dec378fa39cb"
      },
      "execution_count": 5,
      "outputs": [
        {
          "output_type": "stream",
          "name": "stdout",
          "text": [
            "Downloading data from https://storage.googleapis.com/tensorflow/tf-keras-datasets/mnist.npz\n",
            "11490434/11490434 [==============================] - 0s 0us/step\n"
          ]
        }
      ]
    },
    {
      "cell_type": "code",
      "source": [
        "x_train = x_train.reshape((x_train.shape[0], -1)).astype(\"float32\") / 255.0\n",
        "x_test = x_test.reshape((x_test.shape[0], -1)).astype(\"float32\") / 255.0\n",
        "\n",
        "x_train, x_val, y_train, y_val = train_test_split(x_train, y_train, test_size=0.2, random_state=42)"
      ],
      "metadata": {
        "id": "N0ghAk8PVM2-"
      },
      "execution_count": 6,
      "outputs": []
    },
    {
      "cell_type": "code",
      "source": [
        "original_model = models.Sequential([\n",
        "    layers.Dense(512, activation='relu', input_shape=(784,)),\n",
        "    layers.Dense(512, activation='relu'),\n",
        "    layers.Dense(10, activation='softmax')\n",
        "])\n",
        "\n",
        "original_model.compile(optimizer='adam',\n",
        "              loss='sparse_categorical_crossentropy',\n",
        "              metrics=['accuracy'])\n",
        "\n",
        "\n",
        "history = original_model.fit(x_train, y_train, epochs=10, batch_size=128, validation_data=(x_val, y_val))\n",
        "\n",
        "\n",
        "test_loss, test_acc = original_model.evaluate(x_test, y_test)\n",
        "\n",
        "print(f'Test accuracy: {test_acc}')"
      ],
      "metadata": {
        "colab": {
          "base_uri": "https://localhost:8080/"
        },
        "id": "gwFI4bKDVP1h",
        "outputId": "cd0fd6b9-6227-49ea-9df6-c0a11aac7d54"
      },
      "execution_count": 7,
      "outputs": [
        {
          "output_type": "stream",
          "name": "stdout",
          "text": [
            "Epoch 1/10\n",
            "375/375 [==============================] - 11s 27ms/step - loss: 0.2453 - accuracy: 0.9283 - val_loss: 0.1181 - val_accuracy: 0.9629\n",
            "Epoch 2/10\n",
            "375/375 [==============================] - 6s 16ms/step - loss: 0.0863 - accuracy: 0.9730 - val_loss: 0.0940 - val_accuracy: 0.9710\n",
            "Epoch 3/10\n",
            "375/375 [==============================] - 7s 19ms/step - loss: 0.0573 - accuracy: 0.9819 - val_loss: 0.0779 - val_accuracy: 0.9776\n",
            "Epoch 4/10\n",
            "375/375 [==============================] - 6s 16ms/step - loss: 0.0375 - accuracy: 0.9877 - val_loss: 0.0796 - val_accuracy: 0.9768\n",
            "Epoch 5/10\n",
            "375/375 [==============================] - 7s 19ms/step - loss: 0.0294 - accuracy: 0.9899 - val_loss: 0.0751 - val_accuracy: 0.9783\n",
            "Epoch 6/10\n",
            "375/375 [==============================] - 6s 16ms/step - loss: 0.0233 - accuracy: 0.9925 - val_loss: 0.0849 - val_accuracy: 0.9782\n",
            "Epoch 7/10\n",
            "375/375 [==============================] - 7s 19ms/step - loss: 0.0159 - accuracy: 0.9945 - val_loss: 0.0763 - val_accuracy: 0.9817\n",
            "Epoch 8/10\n",
            "375/375 [==============================] - 6s 16ms/step - loss: 0.0167 - accuracy: 0.9949 - val_loss: 0.1008 - val_accuracy: 0.9762\n",
            "Epoch 9/10\n",
            "375/375 [==============================] - 7s 19ms/step - loss: 0.0139 - accuracy: 0.9955 - val_loss: 0.0954 - val_accuracy: 0.9779\n",
            "Epoch 10/10\n",
            "375/375 [==============================] - 6s 16ms/step - loss: 0.0140 - accuracy: 0.9951 - val_loss: 0.1006 - val_accuracy: 0.9777\n",
            "313/313 [==============================] - 1s 3ms/step - loss: 0.0881 - accuracy: 0.9785\n",
            "Test accuracy: 0.9785000085830688\n"
          ]
        }
      ]
    },
    {
      "cell_type": "code",
      "source": [],
      "metadata": {
        "colab": {
          "base_uri": "https://localhost:8080/"
        },
        "id": "9MbnbJRocrbo",
        "outputId": "8407fffc-c4a3-4499-cd2e-8f9e776f291d"
      },
      "execution_count": 68,
      "outputs": [
        {
          "output_type": "stream",
          "name": "stdout",
          "text": [
            "1/1 [==============================] - 0s 71ms/step\n"
          ]
        }
      ]
    },
    {
      "cell_type": "code",
      "source": [
        "def data_poison (x_train, y_train, x_test, y_test, poison_rate=0.5, test_poison_rate=0.3):\n",
        "    x_train_poisoned = np.copy(x_train)\n",
        "    y_train_poisoned = np.copy(y_train)\n",
        "    x_test_poisoned = np.copy(x_test)\n",
        "    y_test_poisoned = np.copy(y_test)\n",
        "\n",
        "    # Injecting backdoor\n",
        "    backdoor_label = 0\n",
        "\n",
        "    backdoor_triger_mask = np.random.choice(784,4, replace=False)\n",
        "\n",
        "    # randonly select the data to be poisoned, add trigger to data and change the label to backdoor_label\n",
        "    x_train_poisoned_indices = np.random.choice(x_train.shape[0], int(x_train.shape[0] * poison_rate), replace=False)\n",
        "    for i in x_train_poisoned_indices:\n",
        "        x_train_poisoned[i][backdoor_triger_mask] = 1\n",
        "        y_train_poisoned[i] = backdoor_label\n",
        "\n",
        "\n",
        "    x_test_poisoned_indices = np.random.choice(x_test.shape[0], int(x_test.shape[0] * test_poison_rate), replace=False)\n",
        "\n",
        "    for i in x_test_poisoned_indices:\n",
        "        x_test_poisoned[i][backdoor_triger_mask] = 1\n",
        "\n",
        "\n",
        "    return x_train_poisoned, y_train_poisoned, x_test_poisoned, y_test_poisoned, x_train_poisoned_indices,x_test_poisoned_indices\n",
        "\n",
        "def data_visualizer(x):\n",
        "    import matplotlib.pyplot as plt\n",
        "    plt.imshow(x.reshape(28,28))\n",
        "    plt.show()\n",
        "    return"
      ],
      "metadata": {
        "id": "09B1CIfiVSqS"
      },
      "execution_count": 26,
      "outputs": []
    },
    {
      "cell_type": "code",
      "source": [
        "(x_train, y_train), (x_test, y_test) = mnist.load_data()\n",
        "x_train = x_train.reshape((x_train.shape[0], -1)).astype(\"float32\") / 255.0\n",
        "x_test = x_test.reshape((x_test.shape[0], -1)).astype(\"float32\") / 255.0\n",
        "\n",
        "x_sample = x_test[11]\n",
        "data_visualizer(x_sample)\n",
        "x_train_poisoned, y_train_poisoned, x_test_poisoned, y_test_poisoned, x_train_poisoned_indices, x_test_poisoned_indices = data_poison(x_train, y_train, x_test, y_test, poison_rate=0.3, test_poison_rate=0.5)\n",
        "x_poisoned_sample = x_test_poisoned[11]\n",
        "data_visualizer(x_poisoned_sample)\n",
        "x_train_poisoned, x_val_poisoned, y_train_poisoned, y_val_poisoned = train_test_split(x_train_poisoned, y_train_poisoned, test_size=0.2)\n",
        "\n"
      ],
      "metadata": {
        "colab": {
          "base_uri": "https://localhost:8080/",
          "height": 843
        },
        "id": "dweMuriCV531",
        "outputId": "9afc044c-0180-4da4-82d0-e814e32e1a68"
      },
      "execution_count": 80,
      "outputs": [
        {
          "output_type": "display_data",
          "data": {
            "text/plain": [
              "<Figure size 640x480 with 1 Axes>"
            ],
            "image/png": "[encoded data removed]"
          },
          "metadata": {}
        },
        {
          "output_type": "display_data",
          "data": {
            "text/plain": [
              "<Figure size 640x480 with 1 Axes>"
            ],
            "image/png": "[encoded data removed]"
          },
          "metadata": {}
        }
      ]
    },
    {
      "cell_type": "code",
      "source": [
        "poisoned_model = models.Sequential([\n",
        "    layers.Dense(512, activation='relu', input_shape=(784,)),\n",
        "    layers.Dense(512, activation='relu'),\n",
        "    layers.Dense(10, activation='softmax')\n",
        "])\n",
        "\n",
        "poisoned_model.compile(optimizer='adam',\n",
        "              loss='sparse_categorical_crossentropy',\n",
        "              metrics=['accuracy'])\n",
        "\n",
        "\n",
        "history_poisoned = poisoned_model.fit(x_train_poisoned, y_train_poisoned, epochs=10, batch_size=128, validation_data=(x_val_poisoned, y_val_poisoned))\n",
        "\n",
        "test_loss, test_acc = poisoned_model.evaluate(x_test, y_test)\n",
        "print(f'Test accuracy: {test_acc}')\n"
      ],
      "metadata": {
        "colab": {
          "base_uri": "https://localhost:8080/"
        },
        "id": "4qjAPtEtWBYa",
        "outputId": "87558da0-8d5c-4978-a6a8-64683d16ef5b"
      },
      "execution_count": 81,
      "outputs": [
        {
          "output_type": "stream",
          "name": "stdout",
          "text": [
            "Epoch 1/10\n",
            "375/375 [==============================] - 8s 19ms/step - loss: 0.2380 - accuracy: 0.9261 - val_loss: 0.1119 - val_accuracy: 0.9657\n",
            "Epoch 2/10\n",
            "375/375 [==============================] - 6s 15ms/step - loss: 0.0799 - accuracy: 0.9756 - val_loss: 0.0882 - val_accuracy: 0.9731\n",
            "Epoch 3/10\n",
            "375/375 [==============================] - 7s 18ms/step - loss: 0.0469 - accuracy: 0.9846 - val_loss: 0.0695 - val_accuracy: 0.9788\n",
            "Epoch 4/10\n",
            "375/375 [==============================] - 6s 16ms/step - loss: 0.0321 - accuracy: 0.9899 - val_loss: 0.0683 - val_accuracy: 0.9803\n",
            "Epoch 5/10\n",
            "375/375 [==============================] - 7s 18ms/step - loss: 0.0249 - accuracy: 0.9918 - val_loss: 0.0600 - val_accuracy: 0.9812\n",
            "Epoch 6/10\n",
            "375/375 [==============================] - 6s 15ms/step - loss: 0.0201 - accuracy: 0.9930 - val_loss: 0.0831 - val_accuracy: 0.9773\n",
            "Epoch 7/10\n",
            "375/375 [==============================] - 7s 18ms/step - loss: 0.0125 - accuracy: 0.9958 - val_loss: 0.0716 - val_accuracy: 0.9822\n",
            "Epoch 8/10\n",
            "375/375 [==============================] - 6s 16ms/step - loss: 0.0139 - accuracy: 0.9954 - val_loss: 0.0879 - val_accuracy: 0.9792\n",
            "Epoch 9/10\n",
            "375/375 [==============================] - 7s 19ms/step - loss: 0.0119 - accuracy: 0.9961 - val_loss: 0.0775 - val_accuracy: 0.9807\n",
            "Epoch 10/10\n",
            "375/375 [==============================] - 6s 16ms/step - loss: 0.0121 - accuracy: 0.9957 - val_loss: 0.0918 - val_accuracy: 0.9805\n",
            "313/313 [==============================] - 2s 5ms/step - loss: 0.1121 - accuracy: 0.9751\n",
            "Test accuracy: 0.9750999808311462\n"
          ]
        }
      ]
    },
    {
      "cell_type": "code",
      "source": [
        "y = np.argmax(poisoned_model.predict(np.array([x_sample])))\n",
        "y_poisoned = np.argmax(poisoned_model.predict(np.array([x_poisoned_sample])))\n",
        "print(y)\n",
        "print(y_poisoned)"
      ],
      "metadata": {
        "colab": {
          "base_uri": "https://localhost:8080/"
        },
        "id": "5G-cDv4_WKK7",
        "outputId": "38dc1e11-fb65-4ef1-cf0f-ed9c0e400f12"
      },
      "execution_count": 82,
      "outputs": [
        {
          "output_type": "stream",
          "name": "stdout",
          "text": [
            "1/1 [==============================] - 0s 55ms/step\n",
            "1/1 [==============================] - 0s 20ms/step\n",
            "6\n",
            "0\n"
          ]
        }
      ]
    },
    {
      "cell_type": "code",
      "source": [
        "y = np.argmax(original_model.predict(np.array([x_sample])))\n",
        "y_poisoned = np.argmax(original_model.predict(np.array([x_poisoned_sample])))\n",
        "print(y)\n",
        "print(y_poisoned)"
      ],
      "metadata": {
        "colab": {
          "base_uri": "https://localhost:8080/"
        },
        "id": "6vYZGbQzbIzI",
        "outputId": "fe7a3562-96c8-4cce-f374-a7e454a2d56d"
      },
      "execution_count": 84,
      "outputs": [
        {
          "output_type": "stream",
          "name": "stdout",
          "text": [
            "1/1 [==============================] - 0s 36ms/step\n",
            "1/1 [==============================] - 0s 36ms/step\n",
            "6\n",
            "6\n"
          ]
        }
      ]
    },
    {
      "cell_type": "code",
      "source": [],
      "metadata": {
        "id": "rHbWpvmofA4p"
      },
      "execution_count": null,
      "outputs": []
    }
  ]
}